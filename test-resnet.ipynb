{
 "cells": [
  {
   "cell_type": "code",
   "execution_count": 1,
   "metadata": {},
   "outputs": [
    {
     "name": "stdout",
     "output_type": "stream",
     "text": [
      "2.0.0\n",
      "b'data/data/data/Coronahack-Chest-XRay-Dataset/Coronahack-Chest-XRay-Dataset/test_modified/Pnemonia/person82_bacteria_403.jpeg'\n",
      "b'data/data/data/Coronahack-Chest-XRay-Dataset/Coronahack-Chest-XRay-Dataset/test_modified/Normal/NORMAL2-IM-0380-0001.jpeg'\n",
      "b'data/data/data/Coronahack-Chest-XRay-Dataset/Coronahack-Chest-XRay-Dataset/test_modified/Normal/IM-0073-0001.jpeg'\n",
      "b'data/data/data/Coronahack-Chest-XRay-Dataset/Coronahack-Chest-XRay-Dataset/test_modified/Normal/NORMAL2-IM-0340-0001.jpeg'\n",
      "b'data/data/data/Coronahack-Chest-XRay-Dataset/Coronahack-Chest-XRay-Dataset/test_modified/Pnemonia/person8_virus_27.jpeg'\n"
     ]
    }
   ],
   "source": [
    "# load images with tf.data.Dataset\n",
    "# see here: https://www.tensorflow.org/tutorials/load_data/images\n",
    "import tensorflow as tf\n",
    "print(tf.__version__)\n",
    "import pandas as pd\n",
    "import numpy as np\n",
    "import os\n",
    "AUTOTUNE = tf.data.experimental.AUTOTUNE\n",
    "import pathlib\n",
    "\n",
    "df_sizes = pd.read_csv(\"data/data/data/sorted_metadata.csv\")\n",
    "path=\"data/data/data/Coronahack-Chest-XRay-Dataset/Coronahack-Chest-XRay-Dataset\"\n",
    "BATCH_SIZE = 32\n",
    "IMG_HEIGHT = int(df_sizes.n_rows.mean()/4)\n",
    "IMG_WIDTH = int(df_sizes.n_cols.mean()/4)\n",
    "CLASS_NAMES = np.array([\"Normal\", \"Pnemonia\"])\n",
    "test_path = f\"{path}/test_modified\"\n",
    "data_dir = pathlib.Path(test_path)\n",
    "list_ds = tf.data.Dataset.list_files(str(data_dir/'*/*'))\n",
    "for f in list_ds.take(5):\n",
    "    print(f.numpy())\n"
   ]
  },
  {
   "cell_type": "code",
   "execution_count": 2,
   "metadata": {},
   "outputs": [],
   "source": [
    "def get_label(file_path):\n",
    "    # convert the path to a list of path components\n",
    "    parts = tf.strings.split(file_path, os.path.sep)\n",
    "    # The second to last is the class-directory\n",
    "    return parts[-2] == CLASS_NAMES\n",
    "\n",
    "def get_onehot(file_path):\n",
    "    # convert the path to a list of path components\n",
    "    parts = tf.strings.split(file_path, os.path.sep)\n",
    "    onehot = tf.reshape(tf.one_hot(tf.where(CLASS_NAMES==parts[-2]),2), (2,))\n",
    "    print(onehot.shape)\n",
    "    return onehot\n",
    "\n",
    "def decode_img(img):\n",
    "    # convert the compressed string to a 3D uint8 tensor\n",
    "    img = tf.image.decode_jpeg(img, channels=1)\n",
    "    # Use `convert_image_dtype` to convert to floats in the [0,1] range.\n",
    "    img = tf.image.convert_image_dtype(img, tf.float32)\n",
    "    # resize the image to the desired size.\n",
    "    return tf.image.resize(img, [IMG_HEIGHT, IMG_WIDTH])\n",
    "\n",
    "def process_path(file_path):\n",
    "    # label = get_label(file_path)\n",
    "    label = get_onehot(file_path)\n",
    "    # load the raw data from the file as a string\n",
    "    img = tf.io.read_file(file_path)\n",
    "    img = decode_img(img)\n",
    "    return img, label"
   ]
  },
  {
   "cell_type": "code",
   "execution_count": 3,
   "metadata": {},
   "outputs": [
    {
     "name": "stdout",
     "output_type": "stream",
     "text": [
      "(2,)\n"
     ]
    }
   ],
   "source": [
    "# Set `num_parallel_calls` so multiple images are loaded/processed in parallel.\n",
    "labeled_ds = list_ds.map(process_path, num_parallel_calls=AUTOTUNE)"
   ]
  },
  {
   "cell_type": "code",
   "execution_count": 15,
   "metadata": {},
   "outputs": [],
   "source": [
    "def prepare_dataset(ds, cache=True, shuffle_buffer_size=1000, testing_bool=True):\n",
    "    # This is a small dataset, only load it once, and keep it in memory.\n",
    "    # use `.cache(filename)` to cache preprocessing work for datasets that don't\n",
    "    # fit in memory.\n",
    "    if cache:\n",
    "        if isinstance(cache, str):\n",
    "            ds = ds.cache(cache)\n",
    "        else:\n",
    "            ds = ds.cache()\n",
    "        # add optional shuffle - for testing, we do not want shuffling\n",
    "        if not testing_bool:\n",
    "            ds = ds.shuffle(buffer_size=shuffle_buffer_size)\n",
    "            # Repeat forever\n",
    "            ds = ds.repeat()\n",
    "            ds = ds.batch(BATCH_SIZE)\n",
    "        else:\n",
    "            ds = ds.repeat() # two passes so we can scrape labels\n",
    "            ds = ds.batch(1)\n",
    "        # `prefetch` lets the dataset fetch batches in the background while the model\n",
    "        # is training.\n",
    "        ds = ds.prefetch(buffer_size=AUTOTUNE)\n",
    "\n",
    "        return ds"
   ]
  },
  {
   "cell_type": "code",
   "execution_count": 16,
   "metadata": {},
   "outputs": [],
   "source": [
    "filename = 'data/test_cache'\n",
    "test_ds = prepare_dataset(labeled_ds,cache=filename,testing_bool=True)"
   ]
  },
  {
   "cell_type": "markdown",
   "metadata": {},
   "source": [
    "## Build ResNet model, load weights"
   ]
  },
  {
   "cell_type": "code",
   "execution_count": 17,
   "metadata": {},
   "outputs": [],
   "source": [
    "from tensorflow.keras.callbacks import ModelCheckpoint\n",
    "\n",
    "model_path = \"model/resnet50\"\n",
    "model_out_base = \"{}/model_H{}_W{}\".format(model_path,IMG_HEIGHT,IMG_WIDTH)\n",
    "weights_file = \"{}.h5\".format(model_out_base)"
   ]
  },
  {
   "cell_type": "code",
   "execution_count": 18,
   "metadata": {},
   "outputs": [],
   "source": [
    "data_format = \"channels_last\"\n",
    "inp_shape = (IMG_HEIGHT,IMG_WIDTH,1) # channels_last\n",
    "input_tensor = None\n",
    "resnet = tf.keras.applications.ResNet50(\n",
    "    include_top=True, weights=None, input_tensor=input_tensor, input_shape=inp_shape,\n",
    "    pooling=None, classes=2\n",
    ")\n",
    "resnet.load_weights(weights_file)\n",
    "resnet.compile(optimizer='adam',\n",
    "               loss=tf.keras.losses.CategoricalCrossentropy(), \n",
    "               metrics=['accuracy']\n",
    "              ) "
   ]
  },
  {
   "cell_type": "code",
   "execution_count": 19,
   "metadata": {},
   "outputs": [
    {
     "name": "stdout",
     "output_type": "stream",
     "text": [
      "624\n"
     ]
    }
   ],
   "source": [
    "# TO-DO: TensorBoard, LossHistory callbacks\n",
    "num_examples = df_sizes[df_sizes.dataset_type == \"TEST\"].shape[0]\n",
    "print(num_examples)\n",
    "num_classes = CLASS_NAMES.shape[0]\n",
    "\n",
    "# get true labels from test set\n",
    "y_true = np.zeros((num_examples,num_classes))\n",
    "for i, batch in zip(range(num_examples), test_ds.take(num_examples)):\n",
    "    y_true[i,:] = batch[1]"
   ]
  },
  {
   "cell_type": "code",
   "execution_count": 20,
   "metadata": {},
   "outputs": [
    {
     "name": "stdout",
     "output_type": "stream",
     "text": [
      "624/624 [==============================] - 14s 22ms/step - loss: 2.7316 - accuracy: 0.7580\n"
     ]
    },
    {
     "data": {
      "text/plain": [
       "[2.731577274325271, 0.75801283]"
      ]
     },
     "execution_count": 20,
     "metadata": {},
     "output_type": "execute_result"
    }
   ],
   "source": [
    "resnet.evaluate(test_ds,steps=num_examples)"
   ]
  },
  {
   "cell_type": "markdown",
   "metadata": {},
   "source": [
    "## CNN Classification Metrics\n",
    "\n",
    "For now, we only do binary classification. The metrics we look at are:\n",
    "- ROC/PR Curves\n",
    "- Confusion Matrix"
   ]
  },
  {
   "cell_type": "code",
   "execution_count": 46,
   "metadata": {},
   "outputs": [],
   "source": [
    "y_hat = resnet.predict(test_ds,steps=num_examples)"
   ]
  },
  {
   "cell_type": "markdown",
   "metadata": {},
   "source": [
    "ResNet outputs are probabilities (softmax)"
   ]
  },
  {
   "cell_type": "code",
   "execution_count": 48,
   "metadata": {},
   "outputs": [
    {
     "name": "stdout",
     "output_type": "stream",
     "text": [
      "[[7.9214799e-01 2.0785205e-01]\n",
      " [9.9742824e-01 2.5717719e-03]\n",
      " [3.9610656e-10 1.0000000e+00]\n",
      " ...\n",
      " [1.7409869e-03 9.9825901e-01]\n",
      " [5.8053204e-13 1.0000000e+00]\n",
      " [2.7385661e-12 1.0000000e+00]]\n"
     ]
    }
   ],
   "source": [
    "print(y_hat)"
   ]
  },
  {
   "cell_type": "markdown",
   "metadata": {},
   "source": [
    "## ROC Curve"
   ]
  },
  {
   "cell_type": "code",
   "execution_count": 56,
   "metadata": {},
   "outputs": [],
   "source": [
    "from sklearn.metrics import roc_curve, roc_auc_score\n",
    "y_probs = y_hat[:,1] # we only look at the case with the \n",
    "fpr, tpr, _ = roc_curve(y_true[:,1], y_probs)\n",
    "auc = roc_auc_score(y_true, y_hat)"
   ]
  },
  {
   "cell_type": "code",
   "execution_count": 64,
   "metadata": {},
   "outputs": [
    {
     "data": {
      "image/png": "[encoded data removed]",
      "text/plain": [
       "<Figure size 432x288 with 1 Axes>"
      ]
     },
     "metadata": {
      "needs_background": "light"
     },
     "output_type": "display_data"
    }
   ],
   "source": [
    "import matplotlib.pyplot as plt\n",
    "\n",
    "plt.plot([0,1], [0,1], linestyle='--', label='No skill model')\n",
    "plt.plot(fpr, tpr, marker='.', label='ResNet50 (auc={:3.2f})'.format(auc))\n",
    "plt.xlabel('False Positive Rate')\n",
    "plt.ylabel('True Positive Rate')\n",
    "plt.legend()\n",
    "plt.show()"
   ]
  },
  {
   "cell_type": "markdown",
   "metadata": {},
   "source": [
    "# Precision-Recall Curve"
   ]
  },
  {
   "cell_type": "code",
   "execution_count": 68,
   "metadata": {},
   "outputs": [],
   "source": [
    "from sklearn.metrics import precision_recall_curve, auc, f1_score\n",
    "precision, recall, thresholds = precision_recall_curve(y_true[:,1],y_probs)\n",
    "auc = auc(recall, precision)\n",
    "# f1 = f1_score(y_true,y_hat) # TO-DO: Fix this"
   ]
  },
  {
   "cell_type": "code",
   "execution_count": 69,
   "metadata": {},
   "outputs": [
    {
     "data": {
      "image/png": "[encoded data removed]",
      "text/plain": [
       "<Figure size 432x288 with 1 Axes>"
      ]
     },
     "metadata": {
      "needs_background": "light"
     },
     "output_type": "display_data"
    }
   ],
   "source": [
    "plt.plot([0,1], [0.5,0.5], linestyle='--', label='No skill model')\n",
    "plt.plot(recall, precision, marker='.', label='ResNet50 (auc={:3.2f})'.format(auc))\n",
    "plt.xlabel('Recall')\n",
    "plt.ylabel('Precision')\n",
    "plt.legend()\n",
    "plt.show()"
   ]
  },
  {
   "cell_type": "markdown",
   "metadata": {},
   "source": [
    "# Confusion Matrix"
   ]
  },
  {
   "cell_type": "code",
   "execution_count": 83,
   "metadata": {},
   "outputs": [
    {
     "data": {
      "image/png": "[encoded data removed]",
      "text/plain": [
       "<Figure size 504x360 with 2 Axes>"
      ]
     },
     "metadata": {
      "needs_background": "light"
     },
     "output_type": "display_data"
    }
   ],
   "source": [
    "import pandas as pd\n",
    "import seaborn as sn\n",
    "\n",
    "# convert resnet output to onehot\n",
    "y_one_hot = np.squeeze(tf.one_hot(tf.nn.top_k(y_hat).indices, tf.shape(y_hat)[1]).numpy())\n",
    "data = {\"y_test\": y_true[:,1], \"y_hat\": y_one_hot[:,1]}\n",
    "df = pd.DataFrame(data, columns=[\"y_test\", \"y_hat\"])\n",
    "confusion_matrix = pd.crosstab(df['y_test'],df['y_hat'],rownames=[\"Actual\"],colnames=['Predicted'])\n",
    "f, ax = plt.subplots(figsize=(7,5))\n",
    "sn.heatmap(confusion_matrix, annot=True)\n",
    "ax.yaxis.set_ticklabels(class_names,rotation=\"horizontal\")\n",
    "ax.xaxis.set_ticklabels(class_names)\n",
    "plt.show()"
   ]
  },
  {
   "cell_type": "code",
   "execution_count": null,
   "metadata": {},
   "outputs": [],
   "source": []
  }
 ],
 "metadata": {
  "kernelspec": {
   "display_name": "Python 3 (Tensorflow)",
   "language": "python",
   "name": "tf2"
  },
  "language_info": {
   "codemirror_mode": {
    "name": "ipython",
    "version": 3
   },
   "file_extension": ".py",
   "mimetype": "text/x-python",
   "name": "python",
   "nbconvert_exporter": "python",
   "pygments_lexer": "ipython3",
   "version": "3.7.7"
  }
 },
 "nbformat": 4,
 "nbformat_minor": 4
}
